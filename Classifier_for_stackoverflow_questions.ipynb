{
  "nbformat": 4,
  "nbformat_minor": 0,
  "metadata": {
    "colab": {
      "provenance": [],
      "collapsed_sections": [
        "lqaswM61nH0o",
        "dwZmPi9FqPt2"
      ],
      "authorship_tag": "ABX9TyPZofjSJGkLvRLj3afMrWSC"
    },
    "kernelspec": {
      "name": "python3",
      "display_name": "Python 3"
    },
    "language_info": {
      "name": "python"
    },
    "accelerator": "GPU",
    "gpuClass": "standard"
  },
  "cells": [
    {
      "cell_type": "code",
      "execution_count": null,
      "metadata": {
        "id": "E3P_-R6smidy"
      },
      "outputs": [],
      "source": [
        "import matplotlib.pyplot as plt\n",
        "import os\n",
        "import re\n",
        "import shutil\n",
        "import string\n",
        "import tensorflow as tf\n",
        "import numpy as np\n",
        "import tensorflow.keras as keras"
      ]
    },
    {
      "cell_type": "markdown",
      "source": [
        "## Data import"
      ],
      "metadata": {
        "id": "lqaswM61nH0o"
      }
    },
    {
      "cell_type": "code",
      "source": [
        "extract_path= '/content/stack_overflow_dataset'\n",
        "#os.mkdir(extract_path)\n",
        "#!tar -xvf  'stack_overflow_16k.tar.gz' -C '/content/stack_overflow_dataset'"
      ],
      "metadata": {
        "id": "jzMfXu0fnM5k"
      },
      "execution_count": null,
      "outputs": []
    },
    {
      "cell_type": "code",
      "source": [
        "train_dir = os.path.join(extract_path,'train')\n",
        "train_dir"
      ],
      "metadata": {
        "colab": {
          "base_uri": "https://localhost:8080/"
        },
        "id": "HZlmOmFjqjA6",
        "outputId": "81748b39-e487-43ba-d473-9541aac4a956"
      },
      "execution_count": null,
      "outputs": [
        {
          "output_type": "execute_result",
          "data": {
            "text/plain": [
              "'/content/stack_overflow_dataset/train'"
            ],
            "application/vnd.google.colaboratory.intrinsic+json": {
              "type": "string"
            }
          },
          "metadata": {},
          "execution_count": 3
        }
      ]
    },
    {
      "cell_type": "code",
      "source": [
        "test_dir = os.path.join(extract_path,'test')\n",
        "test_dir"
      ],
      "metadata": {
        "colab": {
          "base_uri": "https://localhost:8080/"
        },
        "id": "N1oIR3tTq07x",
        "outputId": "129cf345-bdf1-4b7d-9b00-386df09382c9"
      },
      "execution_count": null,
      "outputs": [
        {
          "output_type": "execute_result",
          "data": {
            "text/plain": [
              "'/content/stack_overflow_dataset/test'"
            ],
            "application/vnd.google.colaboratory.intrinsic+json": {
              "type": "string"
            }
          },
          "metadata": {},
          "execution_count": 4
        }
      ]
    },
    {
      "cell_type": "markdown",
      "source": [
        "## Load data"
      ],
      "metadata": {
        "id": "dwZmPi9FqPt2"
      }
    },
    {
      "cell_type": "code",
      "source": [
        "batch_size = 32\n",
        "seed = 42 # to prevent training and validation overlapping"
      ],
      "metadata": {
        "id": "bLQ6EGoTqRjN"
      },
      "execution_count": null,
      "outputs": []
    },
    {
      "cell_type": "code",
      "source": [
        "raw_train_ds = tf.keras.utils.text_dataset_from_directory(\n",
        "    train_dir, \n",
        "    batch_size=batch_size, \n",
        "    validation_split = 0.2, \n",
        "    subset='training', \n",
        "    seed=seed)"
      ],
      "metadata": {
        "colab": {
          "base_uri": "https://localhost:8080/"
        },
        "id": "hKxfOC8DqdRC",
        "outputId": "3a66b31f-7005-4d46-8f5e-1b7d2decabd9"
      },
      "execution_count": null,
      "outputs": [
        {
          "output_type": "stream",
          "name": "stdout",
          "text": [
            "Found 8000 files belonging to 4 classes.\n",
            "Using 6400 files for training.\n"
          ]
        }
      ]
    },
    {
      "cell_type": "code",
      "source": [
        "raw_validation_ds = tf.keras.utils.text_dataset_from_directory(\n",
        "    train_dir, \n",
        "    batch_size=batch_size, \n",
        "    validation_split = 0.2, \n",
        "    subset='validation', \n",
        "    seed=seed)"
      ],
      "metadata": {
        "colab": {
          "base_uri": "https://localhost:8080/"
        },
        "id": "OA4QR5FEq_mu",
        "outputId": "1275f59f-deb3-4329-e1dd-4537ed6aaf60"
      },
      "execution_count": null,
      "outputs": [
        {
          "output_type": "stream",
          "name": "stdout",
          "text": [
            "Found 8000 files belonging to 4 classes.\n",
            "Using 1600 files for validation.\n"
          ]
        }
      ]
    },
    {
      "cell_type": "code",
      "source": [
        "raw_test_ds = tf.keras.utils.text_dataset_from_directory(\n",
        "    test_dir, \n",
        "    batch_size=batch_size)"
      ],
      "metadata": {
        "colab": {
          "base_uri": "https://localhost:8080/"
        },
        "id": "6aI8ctJAre0m",
        "outputId": "16473803-d167-48c5-f182-bf286f972a3d"
      },
      "execution_count": null,
      "outputs": [
        {
          "output_type": "stream",
          "name": "stdout",
          "text": [
            "Found 263 files belonging to 4 classes.\n"
          ]
        }
      ]
    },
    {
      "cell_type": "markdown",
      "source": [
        "## Inspect Raw data"
      ],
      "metadata": {
        "id": "EfsKLLx7r0p_"
      }
    },
    {
      "cell_type": "code",
      "source": [
        "print(f\"There are {len(raw_train_ds.class_names)} in the dataset\")"
      ],
      "metadata": {
        "colab": {
          "base_uri": "https://localhost:8080/"
        },
        "id": "ougdD-BusE9S",
        "outputId": "7c9aa709-7813-47b6-d689-1d4c549bdaab"
      },
      "execution_count": null,
      "outputs": [
        {
          "output_type": "stream",
          "name": "stdout",
          "text": [
            "There are 4 in the dataset\n"
          ]
        }
      ]
    },
    {
      "cell_type": "code",
      "source": [
        "print(\"Label 0 corresponds to\", raw_train_ds.class_names[0])\n",
        "print(\"Label 1 corresponds to\", raw_train_ds.class_names[1])\n",
        "print(\"Label 2 corresponds to\", raw_train_ds.class_names[2])\n",
        "print(\"Label 3 corresponds to\", raw_train_ds.class_names[3])"
      ],
      "metadata": {
        "colab": {
          "base_uri": "https://localhost:8080/"
        },
        "id": "foynMebtr2mm",
        "outputId": "3519ee1b-89ff-4983-f3f2-74987fb1addb"
      },
      "execution_count": null,
      "outputs": [
        {
          "output_type": "stream",
          "name": "stdout",
          "text": [
            "Label 0 corresponds to csharp\n",
            "Label 1 corresponds to java\n",
            "Label 2 corresponds to javascript\n",
            "Label 3 corresponds to python\n"
          ]
        }
      ]
    },
    {
      "cell_type": "code",
      "source": [
        "for text_batch, label_batch in raw_train_ds.take(1): # take on batch\n",
        "  for i in range(3): # print the 3 first samples in tha batch\n",
        "    print(\"Question\", text_batch.numpy()[i])\n",
        "    print(\"Label\", label_batch.numpy()[i])"
      ],
      "metadata": {
        "colab": {
          "base_uri": "https://localhost:8080/"
        },
        "id": "8bBrkwZTsYUO",
        "outputId": "69241056-f98b-4c14-b31e-bbce1ec1c8e1"
      },
      "execution_count": null,
      "outputs": [
        {
          "output_type": "stream",
          "name": "stdout",
          "text": [
            "Question b'\"my tester is going to the wrong constructor i am new to programming so if i ask a question that can be easily fixed, please forgive me. my program has a tester class with a main. when i send that to my regularpolygon class, it sends it to the wrong constructor. i have two constructors. 1 without perameters..public regularpolygon().    {.       mynumsides = 5;.       mysidelength = 30;.    }//end default constructor...and my second, with perameters. ..public regularpolygon(int numsides, double sidelength).    {.        mynumsides = numsides;.        mysidelength = sidelength;.    }// end constructor...in my tester class i have these two lines:..regularpolygon shape = new regularpolygon(numsides, sidelength);.        shape.menu();...numsides and sidelength were declared and initialized earlier in the testing class...so what i want to happen, is the tester class sends numsides and sidelength to the second constructor and use it in that class. but it only uses the default constructor, which therefor ruins the whole rest of the program. can somebody help me?..for those of you who want to see more of my code: here you go..public double vertexangle().    {.        system.out.println(\"\"the vertex angle method: \"\" + mynumsides);// prints out 5.        system.out.println(\"\"the vertex angle method: \"\" + mysidelength); // prints out 30..        double vertexangle;.        vertexangle = ((mynumsides - 2.0) / mynumsides) * 180.0;.        return vertexangle;.    }//end method vertexangle..public void menu().{.    system.out.println(mynumsides); // prints out what the user puts in.    system.out.println(mysidelength); // prints out what the user puts in.    gotographic();.    calcr(mynumsides, mysidelength);.    calcr(mynumsides, mysidelength);.    print(); .}// end menu...this is my entire tester class:..public static void main(string[] arg).{.    int numsides;.    double sidelength;.    scanner keyboard = new scanner(system.in);..    system.out.println(\"\"welcome to the regular polygon program!\"\");.    system.out.println();..    system.out.print(\"\"enter the number of sides of the polygon ==&gt; \"\");.    numsides = keyboard.nextint();.    system.out.println();..    system.out.print(\"\"enter the side length of each side ==&gt; \"\");.    sidelength = keyboard.nextdouble();.    system.out.println();..    regularpolygon shape = new regularpolygon(numsides, sidelength);.    shape.menu();.}//end main...for testing it i sent it numsides 4 and sidelength 100.\"\\n'\n",
            "Label 1\n",
            "Question b'\"blank code slow skin detection this code changes the color space to lab and using a threshold finds the skin area of an image. but it\\'s ridiculously slow. i don\\'t know how to make it faster ?    ..from colormath.color_objects import *..def skindetection(img, treshold=80, color=[255,20,147]):..    print img.shape.    res=img.copy().    for x in range(img.shape[0]):.        for y in range(img.shape[1]):.            rgbimg=rgbcolor(img[x,y,0],img[x,y,1],img[x,y,2]).            labimg=rgbimg.convert_to(\\'lab\\', debug=false).            if (labimg.lab_l &gt; treshold):.                res[x,y,:]=color.            else: .                res[x,y,:]=img[x,y,:]..    return res\"\\n'\n",
            "Label 3\n",
            "Question b'\"option and validation in blank i want to add a new option on my system where i want to add two text files, both rental.txt and customer.txt. inside each text are id numbers of the customer, the videotape they need and the price...i want to place it as an option on my code. right now i have:...add customer.rent return.view list.search.exit...i want to add this as my sixth option. say for example i ordered a video, it would display the price and would let me confirm the price and if i am going to buy it or not...here is my current code:..  import blank.io.*;.    import blank.util.arraylist;.    import static blank.lang.system.out;..    public class rentalsystem{.    static bufferedreader input = new bufferedreader(new inputstreamreader(system.in));.    static file file = new file(\"\"file.txt\"\");.    static arraylist&lt;string&gt; list = new arraylist&lt;string&gt;();.    static int rows;..    public static void main(string[] args) throws exception{.        introduction();.        system.out.print(\"\"nn\"\");.        login();.        system.out.print(\"\"nnnnnnnnnnnnnnnnnnnnnn\"\");.        introduction();.        string repeat;.        do{.            loadfile();.            system.out.print(\"\"nwhat do you want to do?nn\"\");.            system.out.print(\"\"n                    - - - - - - - - - - - - - - - - - - - - - - -\"\");.            system.out.print(\"\"nn                    |     1. add customer    |   2. rent return |n\"\");.            system.out.print(\"\"n                    - - - - - - - - - - - - - - - - - - - - - - -\"\");.            system.out.print(\"\"nn                    |     3. view list       |   4. search      |n\"\");.            system.out.print(\"\"n                    - - - - - - - - - - - - - - - - - - - - - - -\"\");.            system.out.print(\"\"nn                                             |   5. exit        |n\"\");.            system.out.print(\"\"n                                              - - - - - - - - - -\"\");.            system.out.print(\"\"nnchoice:\"\");.            int choice = integer.parseint(input.readline());.            switch(choice){.                case 1:.                    writedata();.                    break;.                case 2:.                    rentdata();.                    break;.                case 3:.                    viewlist();.                    break;.                case 4:.                    search();.                    break;.                case 5:.                    system.out.println(\"\"goodbye!\"\");.                    system.exit(0);.                default:.                    system.out.print(\"\"invalid choice: \"\");.                    break;.            }.            system.out.print(\"\"ndo another task? [y/n] \"\");.            repeat = input.readline();.        }while(repeat.equals(\"\"y\"\"));..        if(repeat!=\"\"y\"\") system.out.println(\"\"ngoodbye!\"\");..    }..    public static void writedata() throws exception{.        system.out.print(\"\"nname: \"\");.        string cname = input.readline();.        system.out.print(\"\"address: \"\");.        string add = input.readline();.        system.out.print(\"\"phone no.: \"\");.        string pno = input.readline();.        system.out.print(\"\"rental amount: \"\");.        string ramount = input.readline();.        system.out.print(\"\"tapenumber: \"\");.        string tno = input.readline();.        system.out.print(\"\"title: \"\");.        string title = input.readline();.        system.out.print(\"\"date borrowed: \"\");.        string dborrowed = input.readline();.        system.out.print(\"\"due date: \"\");.        string ddate = input.readline();.        createline(cname, add, pno, ramount,tno, title, dborrowed, ddate);.        rentdata();.    }..    public static void createline(string name, string address, string phone , string rental, string tapenumber, string title, string borrowed, string due) throws exception{.        filewriter fw = new filewriter(file, true);.        fw.write(\"\"nname: \"\"+name + \"\"naddress: \"\" + address +\"\"nphone no.: \"\"+ phone+\"\"nrentalamount: \"\"+rental+\"\"ntape no.: \"\"+ tapenumber+\"\"ntitle: \"\"+ title+\"\"ndate borrowed: \"\"+borrowed +\"\"ndue date: \"\"+ due+\"\":rn\"\");.        fw.close();.    }..    public static void loadfile() throws exception{.        try{.            list.clear();.            fileinputstream fstream = new fileinputstream(file);.            bufferedreader br = new bufferedreader(new inputstreamreader(fstream));.            rows = 0;.            while( br.ready()).            {.                list.add(br.readline());.                rows++;.            }.            br.close();.        } catch(exception e){.            system.out.println(\"\"list not yet loaded.\"\");.        }.    }..    public static void viewlist(){.        system.out.print(\"\"n~ ~ ~ ~ ~ ~ ~ ~ ~ ~ ~\"\");.        system.out.print(\"\" |list of all costumers|\"\");.        system.out.print(\"\"~ ~ ~ ~ ~ ~ ~ ~ ~ ~ ~\"\");.        for(int i = 0; i &lt;rows; i++){.            system.out.println(list.get(i));.        }.    }.        public static void rentdata()throws exception.    {   system.out.print(\"\"n~ ~ ~ ~ ~ ~ ~ ~ ~ ~ ~\"\");.        system.out.print(\"\" |rent data list|\"\");.        system.out.print(\"\"~ ~ ~ ~ ~ ~ ~ ~ ~ ~ ~\"\");.        system.out.print(\"\"nenter customer name: \"\");.        string cname = input.readline();.        system.out.print(\"\"date borrowed: \"\");.        string dborrowed = input.readline();.        system.out.print(\"\"due date: \"\");.        string ddate = input.readline();.        system.out.print(\"\"return date: \"\");.        string rdate = input.readline();.        system.out.print(\"\"rent amount: \"\");.        string ramount = input.readline();..        system.out.print(\"\"you pay:\"\"+ramount);...    }.    public static void search()throws exception.    {   system.out.print(\"\"n~ ~ ~ ~ ~ ~ ~ ~ ~ ~ ~\"\");.        system.out.print(\"\" |search costumers|\"\");.        system.out.print(\"\"~ ~ ~ ~ ~ ~ ~ ~ ~ ~ ~\"\");.        system.out.print(\"\"nenter costumer name: \"\");.        string cname = input.readline();.        boolean found = false;..        for(int i=0; i &lt; rows; i++){.            string temp[] = list.get(i).split(\"\",\"\");..            if(cname.equals(temp[0])){.            system.out.println(\"\"search result:nyou are \"\" + temp[0] + \"\" from \"\" + temp[1] + \"\".\"\"+ temp[2] + \"\".\"\"+ temp[3] + \"\".\"\"+ temp[4] + \"\".\"\"+ temp[5] + \"\" is \"\" + temp[6] + \"\".\"\"+ temp[7] + \"\" is \"\" + temp[8] + \"\".\"\");.                found = true;.            }.        }..        if(!found){.            system.out.print(\"\"no results.\"\");.        }..    }..        public static boolean evaluate(string uname, string pass){.        if (uname.equals(\"\"admin\"\")&amp;&amp;pass.equals(\"\"12345\"\")) return true;.        else return false;.    }..    public static string login()throws exception{.        bufferedreader input=new bufferedreader(new inputstreamreader(system.in));.        int counter=0;.        do{.            system.out.print(\"\"username:\"\");.            string uname =input.readline();.            system.out.print(\"\"password:\"\");.            string pass =input.readline();..            boolean accept= evaluate(uname,pass);..            if(accept){.                break;.                }else{.                    system.out.println(\"\"incorrect username or password!\"\");.                    counter ++;.                    }.        }while(counter&lt;3);..            if(counter !=3) return \"\"login successful\"\";.            else return \"\"login failed\"\";.            }.        public static void introduction() throws exception{..        system.out.println(\"\"                  - - - - - - - - - - - - - - - - - - - - - - - - -\"\");.        system.out.println(\"\"                  !                  r e n t a l                  !\"\");.        system.out.println(\"\"                   ! ~ ~ ~ ~ ~ !  =================  ! ~ ~ ~ ~ ~ !\"\");.        system.out.println(\"\"                  !                  s y s t e m                  !\"\");.        system.out.println(\"\"                  - - - - - - - - - - - - - - - - - - - - - - - - -\"\");.        }..}\"\\n'\n",
            "Label 1\n"
          ]
        }
      ]
    },
    {
      "cell_type": "markdown",
      "source": [
        "## Data pre-processing and preparation (Tokenization)"
      ],
      "metadata": {
        "id": "U3IaGQZKtaY0"
      }
    },
    {
      "cell_type": "code",
      "source": [
        "def custom_standardization(input_data):\n",
        "  lowercase = tf.strings.lower(input_data)\n",
        "  stripped_html = tf.strings.regex_replace(lowercase, '<br />', ' ')\n",
        "  return tf.strings.regex_replace(stripped_html,\n",
        "                                  '[%s]' % re.escape(string.punctuation),\n",
        "                                  '')"
      ],
      "metadata": {
        "id": "OVDhqBmItdrk"
      },
      "execution_count": null,
      "outputs": []
    },
    {
      "cell_type": "code",
      "source": [
        "max_features = 10000 # vocab length\n",
        "sequence_length = 500\n",
        "\n",
        "vectorize_layer = keras.layers.TextVectorization(\n",
        "    standardize=custom_standardization,\n",
        "    max_tokens=max_features,\n",
        "    output_mode='int',\n",
        "    output_sequence_length=sequence_length)\n",
        "\n",
        "def vectorize_text(text, label):\n",
        "  text = tf.expand_dims(text, -1) # add a dim as the first dim\n",
        "  return vectorize_layer(text), label"
      ],
      "metadata": {
        "id": "riLFNcaGu8HJ"
      },
      "execution_count": null,
      "outputs": []
    },
    {
      "cell_type": "code",
      "source": [
        "train_text = raw_train_ds.map(lambda x, y: x)\n",
        "vectorize_layer.adapt(train_text) # constaruct the vocab"
      ],
      "metadata": {
        "colab": {
          "base_uri": "https://localhost:8080/"
        },
        "id": "tk9jWcaJvOeb",
        "outputId": "f7f015d3-9845-49dd-b9de-2cfe8577815a"
      },
      "execution_count": null,
      "outputs": [
        {
          "output_type": "stream",
          "name": "stderr",
          "text": [
            "WARNING:tensorflow:From /usr/local/lib/python3.8/dist-packages/tensorflow/python/autograph/pyct/static_analysis/liveness.py:83: Analyzer.lamba_check (from tensorflow.python.autograph.pyct.static_analysis.liveness) is deprecated and will be removed after 2023-09-23.\n",
            "Instructions for updating:\n",
            "Lambda fuctions will be no more assumed to be used in the statement where they are used, or at least in the same block. https://github.com/tensorflow/tensorflow/issues/56089\n"
          ]
        }
      ]
    },
    {
      "cell_type": "code",
      "source": [
        "# retrieve a batch (of 32 reviews and labels) from the dataset\n",
        "text_batch, label_batch = next(iter(raw_train_ds))\n",
        "first_review, first_label = text_batch[0], label_batch[0]\n",
        "print(\"Review\", first_review)\n",
        "print(\"Label\", raw_train_ds.class_names[first_label])\n",
        "print(\"Vectorized review\", vectorize_text(first_review, first_label))"
      ],
      "metadata": {
        "colab": {
          "base_uri": "https://localhost:8080/"
        },
        "id": "-eMe87vfwmLX",
        "outputId": "b12416ff-7bfe-4a68-bdee-83de8f0e391c"
      },
      "execution_count": null,
      "outputs": [
        {
          "output_type": "stream",
          "name": "stdout",
          "text": [
            "Review tf.Tensor(b'\"unit testing of setters and getters teacher wanted us to do a comprehensive unit test. for me, this will be the first time that i use junit. i am confused about testing set and get methods. do you think should i test them? if the answer is yes; is this code enough for testing?..  public void testsetandget(){.    int a = 10;.    class firstclass = new class();.    firstclass.setvalue(10);.    int value = firstclass.getvalue();.    assert.asserttrue(\"\"error\"\", value==a);.  }...in my code, i think if there is an error, we can\\'t know that the error is deriving because of setter or getter.\"\\n', shape=(), dtype=string)\n",
            "Label java\n",
            "Vectorized review (<tf.Tensor: shape=(1, 500), dtype=int64, numpy=\n",
            "array([[1011,  773,    9, 2456,    8, 1863, 2362,  690, 1267,    4,   40,\n",
            "           5,    1, 1011,  196,   12,   74,   13,   72,   33,    2,   98,\n",
            "         105,   14,    3,   70, 9611,    3,   34,  888,  202,  773,  107,\n",
            "           8,   41,  242,   40,   58,  291,   90,    3,  196,  191,   10,\n",
            "           2,  182,    6,  668,    6,   13,   30, 1187,   12,  773,   22,\n",
            "          42,    1,   28,    5,  140,   29, 5213,   15,   29,    1,   28,\n",
            "          51,    1,    1,    1,    7,   23,   30,    3,  291,   10,   67,\n",
            "           6,   32,   65,  185,  166,  102,   14,    2,   65,    6,    1,\n",
            "         193,    9, 2784,   45, 2410,    0,    0,    0,    0,    0,    0,\n",
            "           0,    0,    0,    0,    0,    0,    0,    0,    0,    0,    0,\n",
            "           0,    0,    0,    0,    0,    0,    0,    0,    0,    0,    0,\n",
            "           0,    0,    0,    0,    0,    0,    0,    0,    0,    0,    0,\n",
            "           0,    0,    0,    0,    0,    0,    0,    0,    0,    0,    0,\n",
            "           0,    0,    0,    0,    0,    0,    0,    0,    0,    0,    0,\n",
            "           0,    0,    0,    0,    0,    0,    0,    0,    0,    0,    0,\n",
            "           0,    0,    0,    0,    0,    0,    0,    0,    0,    0,    0,\n",
            "           0,    0,    0,    0,    0,    0,    0,    0,    0,    0,    0,\n",
            "           0,    0,    0,    0,    0,    0,    0,    0,    0,    0,    0,\n",
            "           0,    0,    0,    0,    0,    0,    0,    0,    0,    0,    0,\n",
            "           0,    0,    0,    0,    0,    0,    0,    0,    0,    0,    0,\n",
            "           0,    0,    0,    0,    0,    0,    0,    0,    0,    0,    0,\n",
            "           0,    0,    0,    0,    0,    0,    0,    0,    0,    0,    0,\n",
            "           0,    0,    0,    0,    0,    0,    0,    0,    0,    0,    0,\n",
            "           0,    0,    0,    0,    0,    0,    0,    0,    0,    0,    0,\n",
            "           0,    0,    0,    0,    0,    0,    0,    0,    0,    0,    0,\n",
            "           0,    0,    0,    0,    0,    0,    0,    0,    0,    0,    0,\n",
            "           0,    0,    0,    0,    0,    0,    0,    0,    0,    0,    0,\n",
            "           0,    0,    0,    0,    0,    0,    0,    0,    0,    0,    0,\n",
            "           0,    0,    0,    0,    0,    0,    0,    0,    0,    0,    0,\n",
            "           0,    0,    0,    0,    0,    0,    0,    0,    0,    0,    0,\n",
            "           0,    0,    0,    0,    0,    0,    0,    0,    0,    0,    0,\n",
            "           0,    0,    0,    0,    0,    0,    0,    0,    0,    0,    0,\n",
            "           0,    0,    0,    0,    0,    0,    0,    0,    0,    0,    0,\n",
            "           0,    0,    0,    0,    0,    0,    0,    0,    0,    0,    0,\n",
            "           0,    0,    0,    0,    0,    0,    0,    0,    0,    0,    0,\n",
            "           0,    0,    0,    0,    0,    0,    0,    0,    0,    0,    0,\n",
            "           0,    0,    0,    0,    0,    0,    0,    0,    0,    0,    0,\n",
            "           0,    0,    0,    0,    0,    0,    0,    0,    0,    0,    0,\n",
            "           0,    0,    0,    0,    0,    0,    0,    0,    0,    0,    0,\n",
            "           0,    0,    0,    0,    0,    0,    0,    0,    0,    0,    0,\n",
            "           0,    0,    0,    0,    0,    0,    0,    0,    0,    0,    0,\n",
            "           0,    0,    0,    0,    0,    0,    0,    0,    0,    0,    0,\n",
            "           0,    0,    0,    0,    0,    0,    0,    0,    0,    0,    0,\n",
            "           0,    0,    0,    0,    0,    0,    0,    0,    0,    0,    0,\n",
            "           0,    0,    0,    0,    0,    0,    0,    0,    0,    0,    0,\n",
            "           0,    0,    0,    0,    0]])>, <tf.Tensor: shape=(), dtype=int32, numpy=1>)\n"
          ]
        }
      ]
    },
    {
      "cell_type": "code",
      "source": [
        "train_ds = raw_train_ds.map(vectorize_text)\n",
        "val_ds = raw_validation_ds.map(vectorize_text)\n",
        "test_ds = raw_test_ds.map(vectorize_text)"
      ],
      "metadata": {
        "id": "Xtmj_0YuxiPf"
      },
      "execution_count": null,
      "outputs": []
    },
    {
      "cell_type": "code",
      "source": [
        "print(\"1287 ---> \",vectorize_layer.get_vocabulary()[1287])\n",
        "print(\" 313 ---> \",vectorize_layer.get_vocabulary()[313])\n",
        "print('Vocabulary size: {}'.format(len(vectorize_layer.get_vocabulary())))"
      ],
      "metadata": {
        "colab": {
          "base_uri": "https://localhost:8080/"
        },
        "id": "DeoDJdsvx1uL",
        "outputId": "5768c89a-abe7-46ec-824d-b5700f3488dc"
      },
      "execution_count": null,
      "outputs": [
        {
          "output_type": "stream",
          "name": "stdout",
          "text": [
            "1287 --->  scissors\n",
            " 313 --->  source\n",
            "Vocabulary size: 10000\n"
          ]
        }
      ]
    },
    {
      "cell_type": "markdown",
      "source": [
        "## Inspect final pre-processed data"
      ],
      "metadata": {
        "id": "SuHqj5rH1ZEX"
      }
    },
    {
      "cell_type": "code",
      "source": [
        "for text,label in train_ds:\n",
        "  for i in range(batch_size):\n",
        "    if not label[0].numpy() in [0,1,2,3]:\n",
        "      print('label_encoding_error')"
      ],
      "metadata": {
        "id": "FnEHbqRJ1nwa"
      },
      "execution_count": null,
      "outputs": []
    },
    {
      "cell_type": "code",
      "source": [
        "for text,label in train_ds:\n",
        "  for i in range(batch_size):\n",
        "    if not (text[i].shape == (sequence_length,) and text[i].dtype == tf.int64):\n",
        "      print(\"text vectorization error\")\n",
        "    "
      ],
      "metadata": {
        "id": "6s07Ac6k3Lsg"
      },
      "execution_count": null,
      "outputs": []
    },
    {
      "cell_type": "code",
      "source": [
        "for text,label in val_ds:\n",
        "  for i in range(batch_size):\n",
        "    if not label[0].numpy() in [0,1,2,3]:\n",
        "      print('label_encoding_error')"
      ],
      "metadata": {
        "id": "sAMExbDq2_e7"
      },
      "execution_count": null,
      "outputs": []
    },
    {
      "cell_type": "code",
      "source": [
        "for text,label in val_ds:\n",
        "  for i in range(batch_size):\n",
        "    if not (text[i].shape == (sequence_length,) and text[i].dtype == tf.int64):\n",
        "      print(\"text vectorization error\")"
      ],
      "metadata": {
        "id": "Mfgug_Dm3KKr"
      },
      "execution_count": null,
      "outputs": []
    },
    {
      "cell_type": "markdown",
      "source": [
        "## Build and train the model on GPUs"
      ],
      "metadata": {
        "id": "Klj--u0dyF_l"
      }
    },
    {
      "cell_type": "code",
      "source": [
        "mirrored_strategy = tf.distribute.MirroredStrategy()\n",
        "with mirrored_strategy.scope():\n",
        "  embedding_dim = 16\n",
        "\n",
        "  model = tf.keras.Sequential([\n",
        "    keras.layers.Embedding(max_features + 1, embedding_dim),\n",
        "    keras.layers.Dropout(0.2),\n",
        "    keras.layers.GlobalAveragePooling1D(),\n",
        "    keras.layers.Dropout(0.2),\n",
        "    keras.layers.Dense(4)])\n",
        "  \n",
        "  model.compile(loss= keras.losses.SparseCategoricalCrossentropy(from_logits=True),\n",
        "                optimizer= 'adam',\n",
        "                metrics= [keras.metrics.SparseCategoricalAccuracy()])\n",
        "  history = model.fit(\n",
        "    train_ds,\n",
        "    validation_data = val_ds,\n",
        "    epochs = 50\n",
        "  )\n",
        "\n",
        "  # Evaluate\n",
        "  test_loss, test_accuracy = model.evaluate(test_ds)\n",
        "\n",
        "  print(\"The model performance in the test set : \")\n",
        "  print(f\"Loss : {test_loss}\")\n",
        "  print(f\"Accuracy : {test_accuracy}\")"
      ],
      "metadata": {
        "colab": {
          "base_uri": "https://localhost:8080/"
        },
        "id": "7cL1v644yL4o",
        "outputId": "d4e91111-7953-4750-9391-9d96bbbddcec"
      },
      "execution_count": null,
      "outputs": [
        {
          "output_type": "stream",
          "name": "stdout",
          "text": [
            "Epoch 1/50\n",
            "200/200 [==============================] - 28s 127ms/step - loss: 1.3818 - sparse_categorical_accuracy: 0.3030 - val_loss: 1.3770 - val_sparse_categorical_accuracy: 0.3288\n",
            "Epoch 2/50\n",
            "200/200 [==============================] - 11s 54ms/step - loss: 1.3689 - sparse_categorical_accuracy: 0.3736 - val_loss: 1.3617 - val_sparse_categorical_accuracy: 0.4506\n",
            "Epoch 3/50\n",
            "200/200 [==============================] - 11s 54ms/step - loss: 1.3483 - sparse_categorical_accuracy: 0.4437 - val_loss: 1.3390 - val_sparse_categorical_accuracy: 0.5537\n",
            "Epoch 4/50\n",
            "200/200 [==============================] - 6s 32ms/step - loss: 1.3202 - sparse_categorical_accuracy: 0.5050 - val_loss: 1.3082 - val_sparse_categorical_accuracy: 0.5794\n",
            "Epoch 5/50\n",
            "200/200 [==============================] - 5s 25ms/step - loss: 1.2837 - sparse_categorical_accuracy: 0.5675 - val_loss: 1.2684 - val_sparse_categorical_accuracy: 0.6331\n",
            "Epoch 6/50\n",
            "200/200 [==============================] - 3s 16ms/step - loss: 1.2385 - sparse_categorical_accuracy: 0.6098 - val_loss: 1.2220 - val_sparse_categorical_accuracy: 0.6431\n",
            "Epoch 7/50\n",
            "200/200 [==============================] - 3s 15ms/step - loss: 1.1921 - sparse_categorical_accuracy: 0.6433 - val_loss: 1.1735 - val_sparse_categorical_accuracy: 0.6875\n",
            "Epoch 8/50\n",
            "200/200 [==============================] - 4s 18ms/step - loss: 1.1384 - sparse_categorical_accuracy: 0.6675 - val_loss: 1.1230 - val_sparse_categorical_accuracy: 0.6931\n",
            "Epoch 9/50\n",
            "200/200 [==============================] - 3s 13ms/step - loss: 1.0874 - sparse_categorical_accuracy: 0.6959 - val_loss: 1.0736 - val_sparse_categorical_accuracy: 0.6944\n",
            "Epoch 10/50\n",
            "200/200 [==============================] - 2s 12ms/step - loss: 1.0360 - sparse_categorical_accuracy: 0.7128 - val_loss: 1.0289 - val_sparse_categorical_accuracy: 0.7319\n",
            "Epoch 11/50\n",
            "200/200 [==============================] - 2s 11ms/step - loss: 0.9905 - sparse_categorical_accuracy: 0.7219 - val_loss: 0.9848 - val_sparse_categorical_accuracy: 0.7419\n",
            "Epoch 12/50\n",
            "200/200 [==============================] - 5s 24ms/step - loss: 0.9468 - sparse_categorical_accuracy: 0.7325 - val_loss: 0.9440 - val_sparse_categorical_accuracy: 0.7481\n",
            "Epoch 13/50\n",
            "200/200 [==============================] - 4s 18ms/step - loss: 0.9054 - sparse_categorical_accuracy: 0.7503 - val_loss: 0.9067 - val_sparse_categorical_accuracy: 0.7475\n",
            "Epoch 14/50\n",
            "200/200 [==============================] - 2s 12ms/step - loss: 0.8657 - sparse_categorical_accuracy: 0.7631 - val_loss: 0.8739 - val_sparse_categorical_accuracy: 0.7575\n",
            "Epoch 15/50\n",
            "200/200 [==============================] - 2s 11ms/step - loss: 0.8324 - sparse_categorical_accuracy: 0.7750 - val_loss: 0.8419 - val_sparse_categorical_accuracy: 0.7481\n",
            "Epoch 16/50\n",
            "200/200 [==============================] - 3s 16ms/step - loss: 0.7969 - sparse_categorical_accuracy: 0.7822 - val_loss: 0.8146 - val_sparse_categorical_accuracy: 0.7663\n",
            "Epoch 17/50\n",
            "200/200 [==============================] - 2s 10ms/step - loss: 0.7689 - sparse_categorical_accuracy: 0.7873 - val_loss: 0.7876 - val_sparse_categorical_accuracy: 0.7681\n",
            "Epoch 18/50\n",
            "200/200 [==============================] - 2s 12ms/step - loss: 0.7400 - sparse_categorical_accuracy: 0.7961 - val_loss: 0.7639 - val_sparse_categorical_accuracy: 0.7738\n",
            "Epoch 19/50\n",
            "200/200 [==============================] - 2s 10ms/step - loss: 0.7132 - sparse_categorical_accuracy: 0.8041 - val_loss: 0.7437 - val_sparse_categorical_accuracy: 0.7713\n",
            "Epoch 20/50\n",
            "200/200 [==============================] - 2s 10ms/step - loss: 0.6883 - sparse_categorical_accuracy: 0.8114 - val_loss: 0.7237 - val_sparse_categorical_accuracy: 0.7856\n",
            "Epoch 21/50\n",
            "200/200 [==============================] - 3s 16ms/step - loss: 0.6670 - sparse_categorical_accuracy: 0.8170 - val_loss: 0.7038 - val_sparse_categorical_accuracy: 0.7887\n",
            "Epoch 22/50\n",
            "200/200 [==============================] - 2s 10ms/step - loss: 0.6472 - sparse_categorical_accuracy: 0.8195 - val_loss: 0.6864 - val_sparse_categorical_accuracy: 0.7881\n",
            "Epoch 23/50\n",
            "200/200 [==============================] - 2s 10ms/step - loss: 0.6268 - sparse_categorical_accuracy: 0.8223 - val_loss: 0.6712 - val_sparse_categorical_accuracy: 0.7894\n",
            "Epoch 24/50\n",
            "200/200 [==============================] - 2s 11ms/step - loss: 0.6062 - sparse_categorical_accuracy: 0.8338 - val_loss: 0.6563 - val_sparse_categorical_accuracy: 0.7944\n",
            "Epoch 25/50\n",
            "200/200 [==============================] - 2s 9ms/step - loss: 0.5892 - sparse_categorical_accuracy: 0.8405 - val_loss: 0.6418 - val_sparse_categorical_accuracy: 0.7975\n",
            "Epoch 26/50\n",
            "200/200 [==============================] - 2s 12ms/step - loss: 0.5708 - sparse_categorical_accuracy: 0.8422 - val_loss: 0.6295 - val_sparse_categorical_accuracy: 0.7981\n",
            "Epoch 27/50\n",
            "200/200 [==============================] - 3s 13ms/step - loss: 0.5547 - sparse_categorical_accuracy: 0.8489 - val_loss: 0.6196 - val_sparse_categorical_accuracy: 0.7987\n",
            "Epoch 28/50\n",
            "200/200 [==============================] - 2s 9ms/step - loss: 0.5417 - sparse_categorical_accuracy: 0.8508 - val_loss: 0.6094 - val_sparse_categorical_accuracy: 0.8044\n",
            "Epoch 29/50\n",
            "200/200 [==============================] - 2s 9ms/step - loss: 0.5289 - sparse_categorical_accuracy: 0.8537 - val_loss: 0.5965 - val_sparse_categorical_accuracy: 0.8019\n",
            "Epoch 30/50\n",
            "200/200 [==============================] - 2s 10ms/step - loss: 0.5149 - sparse_categorical_accuracy: 0.8570 - val_loss: 0.5860 - val_sparse_categorical_accuracy: 0.8062\n",
            "Epoch 31/50\n",
            "200/200 [==============================] - 2s 10ms/step - loss: 0.4997 - sparse_categorical_accuracy: 0.8619 - val_loss: 0.5773 - val_sparse_categorical_accuracy: 0.8075\n",
            "Epoch 32/50\n",
            "200/200 [==============================] - 3s 16ms/step - loss: 0.4874 - sparse_categorical_accuracy: 0.8636 - val_loss: 0.5696 - val_sparse_categorical_accuracy: 0.8138\n",
            "Epoch 33/50\n",
            "200/200 [==============================] - 2s 12ms/step - loss: 0.4722 - sparse_categorical_accuracy: 0.8734 - val_loss: 0.5616 - val_sparse_categorical_accuracy: 0.8131\n",
            "Epoch 34/50\n",
            "200/200 [==============================] - 4s 18ms/step - loss: 0.4604 - sparse_categorical_accuracy: 0.8733 - val_loss: 0.5533 - val_sparse_categorical_accuracy: 0.8112\n",
            "Epoch 35/50\n",
            "200/200 [==============================] - 2s 11ms/step - loss: 0.4477 - sparse_categorical_accuracy: 0.8741 - val_loss: 0.5463 - val_sparse_categorical_accuracy: 0.8125\n",
            "Epoch 36/50\n",
            "200/200 [==============================] - 4s 19ms/step - loss: 0.4381 - sparse_categorical_accuracy: 0.8781 - val_loss: 0.5405 - val_sparse_categorical_accuracy: 0.8144\n",
            "Epoch 37/50\n",
            "200/200 [==============================] - 2s 9ms/step - loss: 0.4285 - sparse_categorical_accuracy: 0.8845 - val_loss: 0.5341 - val_sparse_categorical_accuracy: 0.8213\n",
            "Epoch 38/50\n",
            "200/200 [==============================] - 2s 10ms/step - loss: 0.4207 - sparse_categorical_accuracy: 0.8813 - val_loss: 0.5298 - val_sparse_categorical_accuracy: 0.8219\n",
            "Epoch 39/50\n",
            "200/200 [==============================] - 2s 10ms/step - loss: 0.4086 - sparse_categorical_accuracy: 0.8894 - val_loss: 0.5221 - val_sparse_categorical_accuracy: 0.8231\n",
            "Epoch 40/50\n",
            "200/200 [==============================] - 4s 20ms/step - loss: 0.4002 - sparse_categorical_accuracy: 0.8914 - val_loss: 0.5176 - val_sparse_categorical_accuracy: 0.8294\n",
            "Epoch 41/50\n",
            "200/200 [==============================] - 3s 13ms/step - loss: 0.3895 - sparse_categorical_accuracy: 0.8981 - val_loss: 0.5132 - val_sparse_categorical_accuracy: 0.8288\n",
            "Epoch 42/50\n",
            "200/200 [==============================] - 2s 11ms/step - loss: 0.3816 - sparse_categorical_accuracy: 0.8988 - val_loss: 0.5080 - val_sparse_categorical_accuracy: 0.8269\n",
            "Epoch 43/50\n",
            "200/200 [==============================] - 2s 12ms/step - loss: 0.3726 - sparse_categorical_accuracy: 0.9028 - val_loss: 0.5052 - val_sparse_categorical_accuracy: 0.8331\n",
            "Epoch 44/50\n",
            "200/200 [==============================] - 3s 15ms/step - loss: 0.3653 - sparse_categorical_accuracy: 0.9028 - val_loss: 0.5006 - val_sparse_categorical_accuracy: 0.8325\n",
            "Epoch 45/50\n",
            "200/200 [==============================] - 2s 10ms/step - loss: 0.3554 - sparse_categorical_accuracy: 0.9039 - val_loss: 0.4966 - val_sparse_categorical_accuracy: 0.8288\n",
            "Epoch 46/50\n",
            "200/200 [==============================] - 2s 9ms/step - loss: 0.3476 - sparse_categorical_accuracy: 0.9077 - val_loss: 0.4930 - val_sparse_categorical_accuracy: 0.8344\n",
            "Epoch 47/50\n",
            "200/200 [==============================] - 2s 12ms/step - loss: 0.3437 - sparse_categorical_accuracy: 0.9075 - val_loss: 0.4920 - val_sparse_categorical_accuracy: 0.8356\n",
            "Epoch 48/50\n",
            "200/200 [==============================] - 3s 14ms/step - loss: 0.3351 - sparse_categorical_accuracy: 0.9100 - val_loss: 0.4870 - val_sparse_categorical_accuracy: 0.8306\n",
            "Epoch 49/50\n",
            "200/200 [==============================] - 2s 9ms/step - loss: 0.3238 - sparse_categorical_accuracy: 0.9161 - val_loss: 0.4841 - val_sparse_categorical_accuracy: 0.8338\n",
            "Epoch 50/50\n",
            "200/200 [==============================] - 2s 10ms/step - loss: 0.3197 - sparse_categorical_accuracy: 0.9186 - val_loss: 0.4830 - val_sparse_categorical_accuracy: 0.8344\n",
            "9/9 [==============================] - 0s 6ms/step - loss: 0.4836 - sparse_categorical_accuracy: 0.8555\n",
            "The model performance in the test set : \n",
            "Loss : 0.4835539758205414\n",
            "Accuracy : 0.855513334274292\n"
          ]
        }
      ]
    },
    {
      "cell_type": "markdown",
      "source": [
        "## Training visualization"
      ],
      "metadata": {
        "id": "MIxBbmhF7_yy"
      }
    },
    {
      "cell_type": "code",
      "source": [
        "def plot_loss(history):\n",
        "  plt.plot(history.history['loss'], label='loss')\n",
        "  plt.plot(history.history['val_loss'], label='val_loss')\n",
        "  #plt.ylim([0, 2])\n",
        "  plt.xlabel('Epoch')\n",
        "  plt.ylabel('Loss')\n",
        "  plt.legend()\n",
        "  plt.grid(True)\n",
        "plot_loss(history)"
      ],
      "metadata": {
        "colab": {
          "base_uri": "https://localhost:8080/",
          "height": 279
        },
        "id": "_KaFaLyG8EdO",
        "outputId": "c506ad50-ce6e-44a4-cf95-4e0bd0646281"
      },
      "execution_count": null,
      "outputs": [
        {
          "output_type": "display_data",
          "data": {
            "text/plain": [
              "<Figure size 432x288 with 1 Axes>"
            ],
            "image/png": "[encoded data removed]"
          },
          "metadata": {
            "needs_background": "light"
          }
        }
      ]
    },
    {
      "cell_type": "code",
      "source": [
        "def plot_accuracy(history):\n",
        "  plt.plot(history.history['sparse_categorical_accuracy'], label='Train accuracy')\n",
        "  plt.plot(history.history['val_sparse_categorical_accuracy'], label='Validation accuracy')\n",
        "  #plt.ylim([0, 2])\n",
        "  plt.xlabel('Epoch')\n",
        "  plt.ylabel('Accuracy')\n",
        "  plt.legend()\n",
        "  plt.grid(True)\n",
        "plot_accuracy(history)"
      ],
      "metadata": {
        "colab": {
          "base_uri": "https://localhost:8080/",
          "height": 279
        },
        "id": "BnYnbNed8es5",
        "outputId": "f88d7e5b-715a-4836-bf20-8923f6bb5105"
      },
      "execution_count": null,
      "outputs": [
        {
          "output_type": "display_data",
          "data": {
            "text/plain": [
              "<Figure size 432x288 with 1 Axes>"
            ],
            "image/png": "[encoded data removed]"
          },
          "metadata": {
            "needs_background": "light"
          }
        }
      ]
    },
    {
      "cell_type": "markdown",
      "source": [
        "## Export the Model"
      ],
      "metadata": {
        "id": "7PYYwTXlBXE3"
      }
    },
    {
      "cell_type": "code",
      "source": [
        "\n",
        "export_model = tf.keras.Sequential([\n",
        "  vectorize_layer,\n",
        "  model,\n",
        "  keras.layers.Activation('sigmoid')\n",
        "])\n",
        "\n",
        "export_model.compile(loss= keras.losses.SparseCategoricalCrossentropy(from_logits=False),\n",
        "                optimizer= 'adam',\n",
        "                metrics= [keras.metrics.SparseCategoricalAccuracy()])\n",
        "\n",
        "predictions = export_model.predict([\"Is there a setTimeout alternative in Javascript DOM?\"]) # [number_smaple,numçclasses = 4]\n",
        "class_id = np.argmax(predictions,axis=1)[0]\n",
        "print(f\"Your question is taged with a {raw_train_ds.class_names[class_id]} tag\")\n"
      ],
      "metadata": {
        "colab": {
          "base_uri": "https://localhost:8080/"
        },
        "id": "ILQmnWokBbO_",
        "outputId": "9a136e93-0d35-4401-b715-83ccd2bae763"
      },
      "execution_count": null,
      "outputs": [
        {
          "output_type": "stream",
          "name": "stdout",
          "text": [
            "1/1 [==============================] - 0s 110ms/step\n",
            "Your question is taged with a javascript tag\n"
          ]
        }
      ]
    }
  ]
}